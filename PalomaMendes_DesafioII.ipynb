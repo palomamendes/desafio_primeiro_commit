{
 "cells": [
  {
   "cell_type": "code",
   "execution_count": 19,
   "metadata": {},
   "outputs": [],
   "source": [
    "#!pip install plyer\n",
    "from plyer import notification\n",
    "from datetime import datetime\n",
    "\n",
    "def alerta(nivel, base, etapa):\n",
    "    data = str(datetime.now().strftime(\"%Y-%m-%d %H:%M:%S\"))\n",
    "    mensagem = f\"Falha no carregamento da base {base} na etapa {etapa}.\\n{data}\"\n",
    "\n",
    "    if nivel == 1:\n",
    "        title = 'ATENÇÃO: Alerta Baixo'\n",
    "    elif nivel == 2:\n",
    "        title = 'ATENÇÃO: Alerta Médio'\n",
    "    elif nivel  == 3:\n",
    "        title = 'ATENÇÃO: Alerta Alto'\n",
    "    else:\n",
    "        title = 'ATENÇÃO: Nivel do Alerta Desconhecido'\n",
    "\n",
    "    notification.notify(\n",
    "            title=title,\n",
    "            message=mensagem,\n",
    "            app_name='alerta',\n",
    "            timeout=10\n",
    "        )\n",
    "\n",
    "alerta(3,\"CLIENTES\",\"EXTRAÇÃO\")"
   ]
  }
 ],
 "metadata": {
  "kernelspec": {
   "display_name": "Python 3",
   "language": "python",
   "name": "python3"
  },
  "language_info": {
   "codemirror_mode": {
    "name": "ipython",
    "version": 3
   },
   "file_extension": ".py",
   "mimetype": "text/x-python",
   "name": "python",
   "nbconvert_exporter": "python",
   "pygments_lexer": "ipython3",
   "version": "3.12.0"
  }
 },
 "nbformat": 4,
 "nbformat_minor": 2
}
