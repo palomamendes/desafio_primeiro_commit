{
 "cells": [
  {
   "cell_type": "code",
   "execution_count": 2,
   "metadata": {},
   "outputs": [
    {
     "name": "stdout",
     "output_type": "stream",
     "text": [
      "Seu saldo é: 938.1\n"
     ]
    }
   ],
   "source": [
    "# Exercício 1 - Em aula\n",
    "saldo = 950.60\n",
    "\n",
    "saque = input(\"Qual valor deseja sacar?\")\n",
    "novo_saldo = saldo-float(saque)\n",
    "\n",
    "print(\"Seu saldo é:\", novo_saldo)"
   ]
  },
  {
   "cell_type": "code",
   "execution_count": 4,
   "metadata": {},
   "outputs": [
    {
     "name": "stdout",
     "output_type": "stream",
     "text": [
      "Lista de frutas:\n",
      " ['melao', 'mexerica', 'maça', 'banana', 'uva', 'laranja']\n"
     ]
    }
   ],
   "source": [
    "# Exercício 2 - Em aula\n",
    "\n",
    "frutas = [\"uva\", \"banana\", \"laranja\", \"maça\", \"mexerica\"]\n",
    "\n",
    "fruta = input(\"Digite o nome de uma fruta: \")\n",
    "frutas.append(fruta)\n",
    "frutas = list(set(frutas))\n",
    "\n",
    "print(\"Lista de frutas:\\n\",frutas)"
   ]
  },
  {
   "cell_type": "code",
   "execution_count": 3,
   "metadata": {},
   "outputs": [
    {
     "name": "stdout",
     "output_type": "stream",
     "text": [
      "Nova frase é: t*st*nd* fr*s* c*m v*g**s\n"
     ]
    }
   ],
   "source": [
    "# Exercício 3 - Em aula\n",
    "\n",
    "frase = input(\"Digite uma frase:\")\n",
    "nova_frase = frase.replace(\"a\", \"*\").replace(\"e\", \"*\").replace(\"i\", \"*\").replace(\"o\",\"*\").replace(\"u\",\"*\")\n",
    "\n",
    "print(\"Nova frase é:\",nova_frase)"
   ]
  },
  {
   "cell_type": "code",
   "execution_count": 21,
   "metadata": {},
   "outputs": [
    {
     "name": "stdout",
     "output_type": "stream",
     "text": [
      "Seu imc é  25.85\n"
     ]
    }
   ],
   "source": [
    "# Exercício 1 - Desafio Complementar\n",
    "\n",
    "peso = float(input(\"Digite seu peso:\"))\n",
    "altura = float(input(\"Digite sua altura:\"))\n",
    "\n",
    "imc = peso / (altura**2)\n",
    "\n",
    "print(\"Seu imc é \",round(imc,2))"
   ]
  },
  {
   "cell_type": "code",
   "execution_count": 1,
   "metadata": {},
   "outputs": [
    {
     "name": "stdout",
     "output_type": "stream",
     "text": [
      "Números digitados:\n",
      " [1, 2, 3, 4, 5]\n"
     ]
    }
   ],
   "source": [
    "# Exercício 2 - Desafio Complementar\n",
    "\n",
    "lista = []\n",
    "lista.append(int(input(\"Digite o 1 número:\")))\n",
    "lista.append(int(input(\"Digite o 2 número:\")))\n",
    "lista.append(int(input(\"Digite o 3 número:\")))\n",
    "lista.append(int(input(\"Digite o 4 número:\")))\n",
    "lista.append(int(input(\"Digite o 5 número:\")))\n",
    "\n",
    "print(\"Números digitados:\\n\",lista)\n"
   ]
  },
  {
   "cell_type": "code",
   "execution_count": 2,
   "metadata": {},
   "outputs": [
    {
     "name": "stdout",
     "output_type": "stream",
     "text": [
      "Lista de nomes:\n",
      " ['Paloma', 'Eduardo', 'Athena']\n"
     ]
    }
   ],
   "source": [
    "# Exercício 3 - Desafio Complementar\n",
    "\n",
    "nomes = input(\"Digite uma lista de nomes separados por vírgula: \")\n",
    "lista_nomes = nomes.split(\",\")\n",
    "\n",
    "print(\"Lista de nomes:\\n\", lista_nomes)"
   ]
  },
  {
   "cell_type": "code",
   "execution_count": null,
   "metadata": {},
   "outputs": [],
   "source": []
  }
 ],
 "metadata": {
  "kernelspec": {
   "display_name": "Python 3",
   "language": "python",
   "name": "python3"
  },
  "language_info": {
   "codemirror_mode": {
    "name": "ipython",
    "version": 3
   },
   "file_extension": ".py",
   "mimetype": "text/x-python",
   "name": "python",
   "nbconvert_exporter": "python",
   "pygments_lexer": "ipython3",
   "version": "3.12.0"
  }
 },
 "nbformat": 4,
 "nbformat_minor": 2
}
